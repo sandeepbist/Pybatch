{
 "cells": [
  {
   "cell_type": "code",
   "execution_count": null,
   "metadata": {},
   "outputs": [],
   "source": [
    "import platform\n",
    "# putting the value\n",
    "name = \"Sandeep Bist\"\n",
    "course = \"MCA with specialization in AI & ML\"\n",
    "\n",
    "print(\"Name:\", name)\n",
    "print(\"Course:\", course)\n",
    "print(\"Python Version:\", platform.python_version())"
   ]
  },
  {
   "cell_type": "code",
   "execution_count": null,
   "metadata": {},
   "outputs": [],
   "source": [
    "# first we need to ask the input from the user\n",
    "first_name = input(\"Enter your first name \")\n",
    "last_name = input(\"Enter your last name \")\n",
    "\n",
    "# Printing the names in reverse order with a space in between\n",
    "print(last_name + \" \" + first_name)"
   ]
  },
  {
   "cell_type": "code",
   "execution_count": null,
   "metadata": {},
   "outputs": [],
   "source": [
    "# I,will take the above code of first_name and last_name , in that i will use two methods of string\n",
    "\n",
    "# 1  .string_variableName.upper()-> this method  convert the entire string to uppercase\n",
    "\n",
    "first_name=first_name.upper()\n",
    "last_name=last_name.upper()\n",
    "\n",
    "# 2 Second i will use REPLACE method, removing spaces within name)\n",
    "first_name = first_name.replace(\" \", \"\")\n",
    "last_name = last_name.replace(\" \", \"\")\n",
    "\n",
    "# Printing the names in reverse order with a space in between\n",
    "print(last_name + \" \" + first_name)"
   ]
  },
  {
   "cell_type": "code",
   "execution_count": null,
   "metadata": {},
   "outputs": [],
   "source": [
    "# I am taking the input from the user , which is in string format so that i can convert easily to different data type\n",
    "user_input = input(\"Enter a number \")\n",
    "\n",
    "# converting the user_input to different data type\n",
    "integer_value = int(float(user_input))  \n",
    "float_value = float(user_input)        \n",
    "complex_value = complex(user_input)  \n",
    "\n",
    "# printing \n",
    "print(\"Integer Value\", integer_value)\n",
    "print(\"Float Value\", float_value)\n",
    "print(\"Complex Value\", complex_value)"
   ]
  },
  {
   "cell_type": "code",
   "execution_count": null,
   "metadata": {},
   "outputs": [],
   "source": [
    "# taking user input of length and width\n",
    "length=int(input(\"Enter the length of rectangle-> \"))\n",
    "width=int(input(\"Enter the width of rectangle-> \"))\n",
    "area= length*width\n",
    "print(area)"
   ]
  },
  {
   "cell_type": "code",
   "execution_count": null,
   "metadata": {},
   "outputs": [],
   "source": [
    "# we will using format string method in python for the above code\n",
    "# taking user input of length and width\n",
    "length=int(input(\"Enter the length of rectangle-> \"))\n",
    "width=int(input(\"Enter the width of rectangle-> \"))\n",
    "area= length*width\n",
    "print(f\"The area of rectangle is {area:.2f}\")"
   ]
  },
  {
   "cell_type": "code",
   "execution_count": null,
   "metadata": {},
   "outputs": [],
   "source": [
    "# Taking user input for three numbers\n",
    "num1 = int(input(\"Enter the first number\"))\n",
    "num2 = int(input(\"Enter the second number \"))\n",
    "num3 = int(input(\"Enter the third number\"))\n",
    "\n",
    "# Calculate the average\n",
    "calculate_average = (num1 + num2 + num3) / 3\n",
    "\n",
    "# Print the average using % formatting \n",
    "print(f\"The average of the three numbers is: %.2f\" % calculate_average)"
   ]
  },
  {
   "cell_type": "code",
   "execution_count": null,
   "metadata": {},
   "outputs": [],
   "source": [
    "# user input \n",
    "number = float(input(\"Enter a number: \"))\n",
    "\n",
    "# checking if the number is positive, negative, or zero\n",
    "if number > 0:\n",
    "    print(\"The number is positive\")\n",
    "elif number < 0:\n",
    "    print(\"The number is negative\")\n",
    "else:\n",
    "    print(\"The number is zero\")"
   ]
  },
  {
   "cell_type": "code",
   "execution_count": null,
   "metadata": {},
   "outputs": [],
   "source": [
    "# Loop to asking again and again from the user\n",
    "while True:\n",
    "    user_input = input(\"Enter a number (or type 'exit' to quit) \")\n",
    "\n",
    "    # Check if the user wants to exit\n",
    "    if user_input.lower() == 'exit':\n",
    "        print(\"Exiting the program.\")\n",
    "        break\n",
    "\n",
    "    # Try to convert the input to a float\n",
    "    # we will use exception handling , bcoz user can also different input\n",
    "    try:\n",
    "        number = float(user_input)\n",
    "        \n",
    "        # checking \n",
    "        if number > 0:\n",
    "            print(\"The number is positive.\")\n",
    "        elif number < 0:\n",
    "            print(\"The number is negative.\")\n",
    "        else:\n",
    "            print(\"The number is zero.\")\n",
    "    except ValueError:\n",
    "        print(\"Please enter a valid number or 'exit' to quit.\")"
   ]
  },
  {
   "cell_type": "code",
   "execution_count": null,
   "metadata": {},
   "outputs": [],
   "source": [
    "# user input \n",
    "num1 = int(input(\"Enter the first number \"))\n",
    "num2 = int(input(\"Enter the second number \"))\n",
    "\n",
    "# Checking  if both numbers are even or odd\n",
    "if num1 % 2 == 0 and num2 % 2 == 0:\n",
    "    print(\"Both numbers are even\")\n",
    "elif num1 % 2 != 0 and num2 % 2 != 0:\n",
    "    print(\"Both numbers are odd\")\n",
    "else:\n",
    "    print(\"One number is even and the other is odd\")"
   ]
  },
  {
   "cell_type": "code",
   "execution_count": null,
   "metadata": {},
   "outputs": [],
   "source": [
    "# user input \n",
    "number = int(input(\"Enter an integer \"))\n",
    "\n",
    "# Initialize variables for binary, octal, and hexadecimal representations\n",
    "binary = \"\"\n",
    "octal = \"\"\n",
    "hexadecimal = \"\"\n",
    "\n",
    "# Calculate binary representation using bitwise operators\n",
    "for i in range(31, -1, -1):  # Assuming 32 bits for the integer\n",
    "    # Check if the ith bit is set\n",
    "    if number & (1 << i):\n",
    "        binary += \"1\"\n",
    "    else:\n",
    "        binary += \"0\"\n",
    "\n",
    "# Remove leading zeros for binary representation\n",
    "binary = binary.lstrip(\"0\") or \"0\"\n",
    "\n",
    "# Calculate octal representation using bitwise operators\n",
    "temp_number = number\n",
    "while temp_number > 0:\n",
    "    octal_digit = temp_number & 7  # Get the last three bits\n",
    "    octal = str(octal_digit) + octal\n",
    "    temp_number >>= 3  # Right shift by 3 to move to the next group of bits\n",
    "\n",
    "# If the input number is 0, ensure the octal representation is \"0\"\n",
    "if not octal:\n",
    "    octal = \"0\"\n",
    "\n",
    "# Calculate hexadecimal representation using bitwise operators\n",
    "temp_number = number\n",
    "while temp_number > 0:\n",
    "    hex_digit = temp_number & 15  # Get the last four bits\n",
    "    # Convert to hexadecimal character\n",
    "    if hex_digit < 10:\n",
    "        hexadecimal = str(hex_digit) + hexadecimal\n",
    "    else:\n",
    "        hexadecimal = chr(ord('A') + hex_digit - 10) + hexadecimal_representation\n",
    "    temp_number >>= 4  # Right shift by 4 to move to the next group of bits\n",
    "\n",
    "# If the input number is 0, ensure the hexadecimal representation is \"0\"\n",
    "if not hexadecimal:\n",
    "    hexadecimal = \"0\"\n",
    "\n",
    "# Print the results\n",
    "print(f\"Binary: {binary}\")\n",
    "print(f\"Octal: {octal}\")\n",
    "print(f\"Hexadecimal: {hexadecimal}\")"
   ]
  },
  {
   "cell_type": "code",
   "execution_count": null,
   "metadata": {},
   "outputs": [],
   "source": []
  }
 ],
 "metadata": {
  "language_info": {
   "name": "python"
  },
  "orig_nbformat": 4
 },
 "nbformat": 4,
 "nbformat_minor": 2
}

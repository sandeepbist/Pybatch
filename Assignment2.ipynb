{
  "nbformat": 4,
  "nbformat_minor": 0,
  "metadata": {
    "colab": {
      "provenance": []
    },
    "kernelspec": {
      "name": "python3",
      "display_name": "Python 3"
    },
    "language_info": {
      "name": "python"
    }
  },
  "cells": [
    {
      "cell_type": "markdown",
      "source": [
        "**1. Basic Function Implementation**"
      ],
      "metadata": {
        "id": "TTBfkzl48waY"
      }
    },
    {
      "cell_type": "code",
      "execution_count": 3,
      "metadata": {
        "colab": {
          "base_uri": "https://localhost:8080/",
          "height": 35
        },
        "id": "FQmpliqU7Qsl",
        "outputId": "204331fe-a102-49b9-9395-a104c9a3f8e5"
      },
      "outputs": [
        {
          "output_type": "execute_result",
          "data": {
            "text/plain": [
              "'Good Morning Alice'"
            ],
            "application/vnd.google.colaboratory.intrinsic+json": {
              "type": "string"
            }
          },
          "metadata": {},
          "execution_count": 3
        }
      ],
      "source": [
        "def greet(name, greeting=\"Hello\"):\n",
        "    return f\"{greeting} {name}\"\n",
        "\n",
        "greet(\"Bob\")\n",
        "greet(\"Alice\", \"Good Morning\")\n"
      ]
    },
    {
      "cell_type": "markdown",
      "source": [
        "**2. Named Arguements**"
      ],
      "metadata": {
        "id": "smXPTiT283FR"
      }
    },
    {
      "cell_type": "code",
      "source": [
        "def create_profile(*, name, city, age=18):\n",
        "    return f\"Name: {name}, Age: {age}, City: {city}\"\n",
        "\n",
        "create_profile(name=\"John\", city=\"Chicago\")\n",
        "create_profile(name=\"Emma\", age=22, city=\"Los Angeles\")\n"
      ],
      "metadata": {
        "colab": {
          "base_uri": "https://localhost:8080/",
          "height": 35
        },
        "id": "sIOW7o6j82lC",
        "outputId": "1dbcfd2a-d66a-4ad8-fc8d-3b4f95b3e252"
      },
      "execution_count": 4,
      "outputs": [
        {
          "output_type": "execute_result",
          "data": {
            "text/plain": [
              "'Name: Emma, Age: 22, City: Los Angeles'"
            ],
            "application/vnd.google.colaboratory.intrinsic+json": {
              "type": "string"
            }
          },
          "metadata": {},
          "execution_count": 4
        }
      ]
    },
    {
      "cell_type": "markdown",
      "source": [
        "**3. Using *args and kwargs**"
      ],
      "metadata": {
        "id": "u9jVgQfy9pQZ"
      }
    },
    {
      "cell_type": "code",
      "source": [
        "def sum_numbers(*args, **kwargs):\n",
        "    return sum(arg for arg in args if isinstance(arg, (int, float))), kwargs\n",
        "\n",
        "sum_numbers(1, 2, 3)\n",
        "sum_numbers(1, 2, x=4, y=5)\n"
      ],
      "metadata": {
        "id": "ZZhmDRdD9uo_"
      },
      "execution_count": null,
      "outputs": []
    },
    {
      "cell_type": "markdown",
      "source": [
        "**4. Lambdas and Map**"
      ],
      "metadata": {
        "id": "sYXSuEvX-EnQ"
      }
    },
    {
      "cell_type": "code",
      "source": [
        "def square_list(lst):\n",
        "    return list(map(lambda x: x ** 2, lst))\n",
        "\n",
        "square_list([1, 2, 3, 4])\n"
      ],
      "metadata": {
        "id": "D0knVi2k-ICl"
      },
      "execution_count": null,
      "outputs": []
    },
    {
      "cell_type": "markdown",
      "source": [
        "**5. Filter and Lambdas**"
      ],
      "metadata": {
        "id": "TWz3gn5U-V1Y"
      }
    },
    {
      "cell_type": "code",
      "source": [
        "def filter_odds(lst):\n",
        "    return list(filter(lambda x: x % 2 == 0, lst))\n",
        "\n",
        "filter_odds([1, 2, 3, 4, 5])\n"
      ],
      "metadata": {
        "colab": {
          "base_uri": "https://localhost:8080/"
        },
        "id": "WfrqweHP-Zno",
        "outputId": "e789c73d-6bdc-4381-8d26-efeeeaa91eb7"
      },
      "execution_count": 6,
      "outputs": [
        {
          "output_type": "execute_result",
          "data": {
            "text/plain": [
              "[2, 4]"
            ]
          },
          "metadata": {},
          "execution_count": 6
        }
      ]
    },
    {
      "cell_type": "markdown",
      "source": [
        "**6. Basic List Comprehension**"
      ],
      "metadata": {
        "id": "aKcwmIeZ-o3E"
      }
    },
    {
      "cell_type": "code",
      "source": [
        "squared_list = [x ** 2 for x in range(5)]\n",
        "squared_list\n"
      ],
      "metadata": {
        "colab": {
          "base_uri": "https://localhost:8080/"
        },
        "id": "2twNj7bS-sv0",
        "outputId": "4db603c6-5684-414a-c482-59dabff9bca4"
      },
      "execution_count": 9,
      "outputs": [
        {
          "output_type": "execute_result",
          "data": {
            "text/plain": [
              "[0, 1, 4, 9, 16]"
            ]
          },
          "metadata": {},
          "execution_count": 9
        }
      ]
    },
    {
      "cell_type": "markdown",
      "source": [
        "**7. List Comprehension with Condition**"
      ],
      "metadata": {
        "id": "VKBEMppV_Br4"
      }
    },
    {
      "cell_type": "code",
      "source": [
        "[x for x in range(1, 21) if x % 2 == 0]\n"
      ],
      "metadata": {
        "colab": {
          "base_uri": "https://localhost:8080/"
        },
        "id": "gOsbMO0__FTu",
        "outputId": "af4eb955-d6dc-4d70-f987-3838b9cd1310"
      },
      "execution_count": 10,
      "outputs": [
        {
          "output_type": "execute_result",
          "data": {
            "text/plain": [
              "[2, 4, 6, 8, 10, 12, 14, 16, 18, 20]"
            ]
          },
          "metadata": {},
          "execution_count": 10
        }
      ]
    },
    {
      "cell_type": "markdown",
      "source": [
        "**8. Using os and time Modules**"
      ],
      "metadata": {
        "id": "JzQYzvSK_tZk"
      }
    },
    {
      "cell_type": "code",
      "source": [
        "import os\n",
        "import time\n",
        "\n",
        "def file_operations():\n",
        "    os.makedirs(\"test_folder\")\n",
        "    time.sleep(3)\n",
        "    os.rmdir(\"test_folder\")\n",
        "\n",
        "file_operations()\n"
      ],
      "metadata": {
        "id": "oSXpXxsX_xoG"
      },
      "execution_count": 11,
      "outputs": []
    },
    {
      "cell_type": "markdown",
      "source": [
        "**9. Importing Specific Functions**"
      ],
      "metadata": {
        "id": "KCkyD-4ZAKpi"
      }
    },
    {
      "cell_type": "code",
      "source": [
        "from time import sleep as pause\n",
        "\n",
        "pause(2)\n",
        "print(\"paused execution...\")\n"
      ],
      "metadata": {
        "colab": {
          "base_uri": "https://localhost:8080/"
        },
        "id": "Emmim49OAQxa",
        "outputId": "9aad148b-df4f-49bc-b21e-ff7d509f82ab"
      },
      "execution_count": 12,
      "outputs": [
        {
          "output_type": "stream",
          "name": "stdout",
          "text": [
            "paused execution...\n"
          ]
        }
      ]
    },
    {
      "cell_type": "markdown",
      "source": [
        "**10. Recursive Function with *args and kwargs (Flattening a List)**"
      ],
      "metadata": {
        "id": "IXL1ZZfUAkhp"
      }
    },
    {
      "cell_type": "code",
      "source": [
        "def flatten_list(nested_list):\n",
        "    flat_list = []  # Initialize an empty list to store the flattened elements\n",
        "    for item in nested_list:  # Iterate through each item in the nested list\n",
        "        if isinstance(item, list):  # Check if the current item is a list\n",
        "            # If it is a list, call flatten_list recursively to flatten it\n",
        "            # Use extend to add all elements from the flattened sublist to flat_list\n",
        "            flat_list.extend(flatten_list(item))\n",
        "        else:\n",
        "            # If the item is not a list, simply append it to flat_list\n",
        "            flat_list.append(item)\n",
        "    return flat_list  # Return the flattened list\n",
        "\n",
        "flatten_list([1, [2, [3, 4]], 5])\n"
      ],
      "metadata": {
        "colab": {
          "base_uri": "https://localhost:8080/"
        },
        "id": "5r0ATK2IAtKO",
        "outputId": "636350c7-4605-4350-a6b4-d2d7319ba6dc"
      },
      "execution_count": 13,
      "outputs": [
        {
          "output_type": "execute_result",
          "data": {
            "text/plain": [
              "[1, 2, 3, 4, 5]"
            ]
          },
          "metadata": {},
          "execution_count": 13
        }
      ]
    }
  ]
}